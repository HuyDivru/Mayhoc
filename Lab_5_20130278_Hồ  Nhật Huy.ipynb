{
  "nbformat": 4,
  "nbformat_minor": 0,
  "metadata": {
    "colab": {
      "provenance": [],
      "include_colab_link": true
    },
    "kernelspec": {
      "name": "python3",
      "display_name": "Python 3"
    },
    "language_info": {
      "name": "python"
    }
  },
  "cells": [
    {
      "cell_type": "markdown",
      "metadata": {
        "id": "view-in-github",
        "colab_type": "text"
      },
      "source": [
        "<a href=\"https://colab.research.google.com/github/ALexTommy1223/Mayhoc/blob/main/Lab_5_20130278_H%E1%BB%93%20%20Nh%E1%BA%ADt%20Huy.ipynb\" target=\"_parent\"><img src=\"https://colab.research.google.com/assets/colab-badge.svg\" alt=\"Open In Colab\"/></a>"
      ]
    },
    {
      "cell_type": "markdown",
      "source": [
        "# This lab is to deal with **SVM** to classification tasks and compare its performance with other competitive algorithms. In general, **SVM** is one of the most popular and widely used supervised machine learning algorithms.\n",
        "\n",
        "*   **Deadline: 23:59, 17/03/2023**\n",
        "\n"
      ],
      "metadata": {
        "id": "LMzehe0sy5wr"
      }
    },
    {
      "cell_type": "markdown",
      "source": [
        "# Import libraries"
      ],
      "metadata": {
        "id": "H4nJmxp9zGX4"
      }
    },
    {
      "cell_type": "code",
      "execution_count": 16,
      "metadata": {
        "id": "DoVWQ8AEyc-C",
        "colab": {
          "base_uri": "https://localhost:8080/"
        },
        "outputId": "8c64d4cc-07ef-4067-8937-4f4c65e644ed"
      },
      "outputs": [
        {
          "output_type": "stream",
          "name": "stdout",
          "text": [
            "Drive already mounted at /content/drive; to attempt to forcibly remount, call drive.mount(\"/content/drive\", force_remount=True).\n",
            "/content/drive/MyDrive/ML\n"
          ]
        }
      ],
      "source": [
        "# code\n",
        "from google.colab import drive\n",
        "drive.mount('/content/drive')\n",
        "%cd '/content/drive/MyDrive/ML'"
      ]
    },
    {
      "cell_type": "code",
      "source": [
        "import pandas as pd\n",
        "import numpy as np\n",
        "import matplotlib.pyplot as plt\n",
        "from sklearn import datasets\n",
        "from sklearn.svm import LinearSVC\n",
        "from sklearn.svm import SVC\n",
        "from sklearn.datasets import fetch_openml\n",
        "from sklearn.model_selection import train_test_split\n",
        "from sklearn.linear_model import LogisticRegression\n",
        "from sklearn.tree import DecisionTreeClassifier\n",
        "from sklearn.neighbors import KNeighborsClassifier\n",
        "from sklearn.metrics import accuracy_score, precision_score, recall_score, f1_score"
      ],
      "metadata": {
        "id": "43oxM2DaCqTd"
      },
      "execution_count": null,
      "outputs": []
    },
    {
      "cell_type": "markdown",
      "source": [
        "#Task 1. \n",
        "For breast cancer dataset (https://tinyurl.com/3vme8hr3) which could be loaded from datasets in sklearn as follows:\n",
        "\n",
        "```\n",
        "#Import scikit-learn dataset library\n",
        "from sklearn import datasets\n",
        "\n",
        "#Load dataset\n",
        "cancer = datasets.load_breast_cancer()\n",
        "```\n",
        "\n",
        "*   1.1.\tApply SVM algorithm to above dataset using linear kernel.\n",
        "*   1.2.\tCompare the obtained results with other competitive algorithms (Logistic Regression, Decision Tree, kNN) based on metrics: accuracy, precision, recall, f1 measures.\n",
        "\n"
      ],
      "metadata": {
        "id": "kNv07ARGzOUm"
      }
    },
    {
      "cell_type": "code",
      "source": [
        "cancer = datasets.load_breast_cancer()\n",
        "\n",
        "X_train, X_test, y_train, y_test = train_test_split(cancer.data, cancer.target, test_size=0.3, random_state=42)\n",
        "svm_model = LinearSVC()\n",
        "svm_model.fit(cancer.data, cancer.target)\n",
        "\n",
        "lr_model = LogisticRegression()\n",
        "lr_model.fit(X_train, y_train)\n",
        "\n",
        "dt_model = DecisionTreeClassifier()\n",
        "dt_model.fit(X_train, y_train)\n",
        "\n",
        "knn_model = KNeighborsClassifier()\n",
        "knn_model.fit(X_train, y_train)\n",
        "\n",
        "print(\"Linear SVM - Accuracy:\", accuracy_score(y_test, svm_model.predict(X_test)))\n",
        "print(\"Linear SVM - Precision:\", precision_score(y_test, svm_model.predict(X_test)))\n",
        "print(\"Linear SVM - Recall:\", recall_score(y_test, svm_model.predict(X_test)))\n",
        "print(\"Linear SVM - F1 Score:\", f1_score(y_test, svm_model.predict(X_test)))\n",
        "\n",
        "print(\"Logistic Regression - Accuracy:\", accuracy_score(y_test, lr_model.predict(X_test)))\n",
        "print(\"Logistic Regression - Precision:\", precision_score(y_test, lr_model.predict(X_test)))\n",
        "print(\"Logistic Regression - Recall:\", recall_score(y_test, lr_model.predict(X_test)))\n",
        "print(\"Logistic Regression - F1 Score:\", f1_score(y_test, lr_model.predict(X_test)))\n",
        "\n",
        "print(\"Decision Tree - Accuracy:\", accuracy_score(y_test, dt_model.predict(X_test)))\n",
        "print(\"Decision Tree - Precision:\", precision_score(y_test, dt_model.predict(X_test)))\n",
        "print(\"Decision Tree - Recall:\", recall_score(y_test, dt_model.predict(X_test)))\n",
        "print(\"Decision Tree - F1 Score:\", f1_score(y_test, dt_model.predict(X_test)))\n",
        "\n",
        "print(\"knn - Accuracy:\", accuracy_score(y_test, knn_model.predict(X_test)))\n",
        "print(\"knn - Precision:\", precision_score(y_test, knn_model.predict(X_test)))\n",
        "print(\"knn - Recall:\", recall_score(y_test, knn_model.predict(X_test)))\n",
        "print(\"kn - F1 Score:\", f1_score(y_test, knn_model.predict(X_test)))\n"
      ],
      "metadata": {
        "colab": {
          "base_uri": "https://localhost:8080/"
        },
        "id": "sCjzimtsSDSs",
        "outputId": "af836607-b078-4e59-f54f-691b3c626ed0"
      },
      "execution_count": null,
      "outputs": [
        {
          "output_type": "stream",
          "name": "stderr",
          "text": [
            "/usr/local/lib/python3.9/dist-packages/sklearn/svm/_base.py:1244: ConvergenceWarning: Liblinear failed to converge, increase the number of iterations.\n",
            "  warnings.warn(\n",
            "/usr/local/lib/python3.9/dist-packages/sklearn/linear_model/_logistic.py:458: ConvergenceWarning: lbfgs failed to converge (status=1):\n",
            "STOP: TOTAL NO. of ITERATIONS REACHED LIMIT.\n",
            "\n",
            "Increase the number of iterations (max_iter) or scale the data as shown in:\n",
            "    https://scikit-learn.org/stable/modules/preprocessing.html\n",
            "Please also refer to the documentation for alternative solver options:\n",
            "    https://scikit-learn.org/stable/modules/linear_model.html#logistic-regression\n",
            "  n_iter_i = _check_optimize_result(\n"
          ]
        },
        {
          "output_type": "stream",
          "name": "stdout",
          "text": [
            "Linear SVM - Accuracy: 0.9239766081871345\n",
            "Linear SVM - Precision: 0.8925619834710744\n",
            "Linear SVM - Recall: 1.0\n",
            "Linear SVM - F1 Score: 0.9432314410480349\n",
            "Logistic Regression - Accuracy: 0.9707602339181286\n",
            "Logistic Regression - Precision: 0.963963963963964\n",
            "Logistic Regression - Recall: 0.9907407407407407\n",
            "Logistic Regression - F1 Score: 0.9771689497716894\n",
            "Decision Tree - Accuracy: 0.9298245614035088\n",
            "Decision Tree - Precision: 0.9705882352941176\n",
            "Decision Tree - Recall: 0.9166666666666666\n",
            "Decision Tree - F1 Score: 0.9428571428571428\n",
            "k-Nearest Neighbors - Accuracy: 0.9590643274853801\n",
            "k-Nearest Neighbors - Precision: 0.9469026548672567\n",
            "k-Nearest Neighbors - Recall: 0.9907407407407407\n",
            "k-Nearest Neighbors - F1 Score: 0.9683257918552035\n"
          ]
        }
      ]
    },
    {
      "cell_type": "code",
      "source": [],
      "metadata": {
        "id": "YCQS2gGmBCSQ"
      },
      "execution_count": null,
      "outputs": []
    },
    {
      "cell_type": "markdown",
      "source": [
        "#Task 2. \n",
        "\n",
        "*   1.1.\tPerform SVM algorithm to **Iris dataset** using **linear kernel**.\n",
        "*   1.2.\tCompare the obtained results in 1.1 with SVM using other kernels (**Polynomial Kernel, Gaussian Kernel, Sigmoid Kernel, Radial Basis Function Kernel**). Some metrics could be used: accuracy, precision, recall, f1 measures\n",
        "\n",
        "\n",
        "\n"
      ],
      "metadata": {
        "id": "S43IoUT-0OQq"
      }
    },
    {
      "cell_type": "code",
      "source": [
        "# code\n",
        "iris = datasets.load_iris()\n",
        "X_train, X_test, y_train, y_test = train_test_split(iris.data, iris.target, test_size=0.2, random_state=42)\n",
        "svm = SVC(kernel='linear')\n",
        "svm.fit(X_train, y_train)\n",
        "y_pred = svm.predict(X_test)\n",
        "\n",
        "accuracy = accuracy_score(y_test, y_pred)\n",
        "precision = precision_score(y_test, y_pred, average='macro')\n",
        "recall = recall_score(y_test, y_pred, average='macro')\n",
        "f1 = f1_score(y_test, y_pred, average='macro')\n",
        "\n",
        "print(\"Accuracy:\", accuracy)\n",
        "print(\"Precision:\", precision)\n",
        "print(\"Recall:\", recall)\n",
        "print(\"F1 score:\", f1)\n"
      ],
      "metadata": {
        "id": "_xhPpF5b033h",
        "colab": {
          "base_uri": "https://localhost:8080/"
        },
        "outputId": "fedbd3e4-4c7f-45b0-aa35-a6527af8d215"
      },
      "execution_count": null,
      "outputs": [
        {
          "output_type": "stream",
          "name": "stdout",
          "text": [
            "Accuracy: 1.0\n",
            "Precision: 1.0\n",
            "Recall: 1.0\n",
            "F1 score: 1.0\n"
          ]
        }
      ]
    },
    {
      "cell_type": "markdown",
      "source": [
        "#Task 3. \n",
        "Compare the performance of selected classification algorithms (Decision Tree, kNN, Logistic Regression) and SVM (using different kernels) with mnist dataset based on accuracy, precision, recall, f1 measures.\n"
      ],
      "metadata": {
        "id": "b52OPWPD2afi"
      }
    },
    {
      "cell_type": "code",
      "source": [
        "mnist = fetch_openml('mnist_784')\n",
        "\n",
        "X_train, X_test, y_train, y_test = train_test_split(mnist.data, mnist.target, test_size=0.2, random_state=42)\n",
        "\n",
        "dtc = DecisionTreeClassifier()\n",
        "dtc.fit(X_train, y_train)\n",
        "dtc_predictions = dtc.predict(X_test)\n",
        "print('Decision Tree Classifier')\n",
        "print('Accuracy:', accuracy_score(y_test, dtc_predictions))\n",
        "print('Precision:', precision_score(y_test, dtc_predictions, average='weighted'))\n",
        "print('Recall:', recall_score(y_test, dtc_predictions, average='weighted'))\n",
        "print('F1 score:', f1_score(y_test, dtc_predictions, average='weighted'))\n",
        "\n",
        "knn = KNeighborsClassifier()\n",
        "knn.fit(X_train, y_train)\n",
        "knn_predictions = knn.predict(X_test)\n",
        "print('K-Nearest Neighbors Classifier')\n",
        "print('Accuracy:', accuracy_score(y_test, knn_predictions))\n",
        "print('Precision:', precision_score(y_test, knn_predictions, average='weighted'))\n",
        "print('Recall:', recall_score(y_test, knn_predictions, average='weighted'))\n",
        "print('F1 score:', f1_score(y_test, knn_predictions, average='weighted'))\n"
      ],
      "metadata": {
        "colab": {
          "base_uri": "https://localhost:8080/"
        },
        "id": "MetgOTLmYyk1",
        "outputId": "1bd15fe4-de24-424f-b9e1-9b601c2b9f23"
      },
      "execution_count": 22,
      "outputs": [
        {
          "output_type": "stream",
          "name": "stderr",
          "text": [
            "/usr/local/lib/python3.9/dist-packages/sklearn/datasets/_openml.py:968: FutureWarning: The default value of `parser` will change from `'liac-arff'` to `'auto'` in 1.4. You can set `parser='auto'` to silence this warning. Therefore, an `ImportError` will be raised from 1.4 if the dataset is dense and pandas is not installed. Note that the pandas parser may return different data types. See the Notes Section in fetch_openml's API doc for details.\n",
            "  warn(\n"
          ]
        },
        {
          "output_type": "stream",
          "name": "stdout",
          "text": [
            "Decision Tree Classifier\n",
            "Accuracy: 0.8725\n",
            "Precision: 0.872422817864883\n",
            "Recall: 0.8725\n",
            "F1 score: 0.8723854249925734\n",
            "K-Nearest Neighbors Classifier\n",
            "Accuracy: 0.9700714285714286\n",
            "Precision: 0.9702368001894589\n",
            "Recall: 0.9700714285714286\n",
            "F1 score: 0.9700163750952855\n"
          ]
        }
      ]
    },
    {
      "cell_type": "markdown",
      "source": [
        "#Task 4. \n",
        "Compare the performance of selected classification algorithms (Decision Tree, kNN, Logistic Regression) and SVM (using different kernels) with **credit card dataset** based on accuracy, precision, recall, f1 measures.\n",
        "\n",
        "*   Give some comments on the obtained results\n",
        "*   Identify issues with dataset, and propose the solutions to these issues\n",
        "\n"
      ],
      "metadata": {
        "id": "Z5pp7_h-aP2u"
      }
    },
    {
      "cell_type": "code",
      "source": [
        "# code\n",
        "t=PrettyTable(['Subject Code', 'Subject ', 'Marks'])\n",
        "t.add_row(['K01','Marks', 95])\n",
        "t.add_row(['K04','Physics', 89])\n",
        "t.add_row(['K03','Chemistry', 92])\n",
        "t.add_row(['K08','English', 91])\n",
        "t.add_row(['K29','Computer Science', 99])\n",
        "t.add_row(['K06','Social Science', 86])\n",
        "print(t)"
      ],
      "metadata": {
        "id": "Rw_-8FIf2KxW",
        "colab": {
          "base_uri": "https://localhost:8080/"
        },
        "outputId": "2fe2e941-4140-4891-cea2-2032df58d46c"
      },
      "execution_count": null,
      "outputs": [
        {
          "output_type": "stream",
          "name": "stdout",
          "text": [
            "+--------------+------------------+-------+\n",
            "| Subject Code |     Subject      | Marks |\n",
            "+--------------+------------------+-------+\n",
            "|     K01      |      Marks       |   95  |\n",
            "|     K04      |     Physics      |   89  |\n",
            "|     K03      |    Chemistry     |   92  |\n",
            "|     K08      |     English      |   91  |\n",
            "|     K29      | Computer Science |   99  |\n",
            "|     K06      |  Social Science  |   86  |\n",
            "+--------------+------------------+-------+\n"
          ]
        }
      ]
    },
    {
      "cell_type": "markdown",
      "source": [
        "#Finally,\n",
        "Save a copy in your Github. Remember renaming the notebook."
      ],
      "metadata": {
        "id": "Ok7RGkea_b7n"
      }
    }
  ]
}